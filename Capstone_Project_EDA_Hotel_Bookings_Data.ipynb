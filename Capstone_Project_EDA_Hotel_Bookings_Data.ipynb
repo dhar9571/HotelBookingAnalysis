{
  "nbformat": 4,
  "nbformat_minor": 0,
  "metadata": {
    "colab": {
      "provenance": [],
      "authorship_tag": "ABX9TyOS1TscEa234GXuS92XxbIN",
      "include_colab_link": true
    },
    "kernelspec": {
      "name": "python3",
      "display_name": "Python 3"
    },
    "language_info": {
      "name": "python"
    }
  },
  "cells": [
    {
      "cell_type": "markdown",
      "metadata": {
        "id": "view-in-github",
        "colab_type": "text"
      },
      "source": [
        "<a href=\"https://colab.research.google.com/github/dhar9571/HotelBookingAnalysis/blob/main/Capstone_Project_EDA_Hotel_Bookings_Data.ipynb\" target=\"_parent\"><img src=\"https://colab.research.google.com/assets/colab-badge.svg\" alt=\"Open In Colab\"/></a>"
      ]
    },
    {
      "cell_type": "markdown",
      "source": [
        "# **Project Name**    -  **Hotel Booking Analysis**"
      ],
      "metadata": {
        "id": "Sost409yFG7A"
      }
    },
    {
      "cell_type": "markdown",
      "source": [
        "##### **Project Type**    - EDA\n",
        "##### **Contribution**    - Individual"
      ],
      "metadata": {
        "id": "goGYvaO6GtmC"
      }
    },
    {
      "cell_type": "markdown",
      "source": [
        "# **Project Summary**"
      ],
      "metadata": {
        "id": "hsqGtDfoQ9gr"
      }
    },
    {
      "cell_type": "markdown",
      "source": [
        "### **Problem Statement**\n"
      ],
      "metadata": {
        "id": "s8zIn5RQFQTA"
      }
    },
    {
      "cell_type": "markdown",
      "source": [
        "**BUSINESS PROBLEM OVERVIEW**"
      ],
      "metadata": {
        "id": "4kDYjLc_F_oe"
      }
    },
    {
      "cell_type": "markdown",
      "source": [
        "The hotel industry is a highly competitive and dynamic environment, where the demand for rooms is constantly changing based on a variety of factors, such as location, seasonality, events, and economic conditions. Hotels need to understand these factors to effectively manage their room inventory and pricing, and maximize their revenue.\n",
        "\n",
        "One way for hotels to gain insights into their business is to analyze their booking data. The booking data can provide information about the demand for rooms, the most popular destinations, the length of stay, the booking lead time, and the booking channel. By analyzing this data, hotels can make informed decisions about room inventory management, pricing strategies, and marketing efforts.\n",
        "\n",
        "However, the booking data is often complex and large, and requires specialized skills and tools to analyze effectively. The goal of this analysis is to uncover insights and patterns in the booking data that can help hotels make data-driven decisions and optimize their business operations."
      ],
      "metadata": {
        "id": "G-edvOuNGE-U"
      }
    },
    {
      "cell_type": "markdown",
      "source": [
        "## **Define Your Business Objective?**"
      ],
      "metadata": {
        "id": "zQsUvbu4HDJd"
      }
    },
    {
      "cell_type": "markdown",
      "source": [
        "1. Discover important factors that govern the bookings.\n",
        "2. Causes of booking cancellations across various aspects.\n",
        "3. Suitable time to book hotel."
      ],
      "metadata": {
        "id": "KX4g1fKpHTZ8"
      }
    }
  ]
}